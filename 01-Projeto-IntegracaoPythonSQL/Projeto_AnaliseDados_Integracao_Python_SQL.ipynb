{
  "nbformat": 4,
  "nbformat_minor": 0,
  "metadata": {
    "colab": {
      "provenance": [],
      "mount_file_id": "1jiduLC5Form5ZZxf05C127llEoZISxur",
      "authorship_tag": "ABX9TyOC7qUW5JmIEauCq6/obXkC",
      "include_colab_link": true
    },
    "kernelspec": {
      "name": "python3",
      "display_name": "Python 3"
    },
    "language_info": {
      "name": "python"
    }
  },
  "cells": [
    {
      "cell_type": "markdown",
      "metadata": {
        "id": "view-in-github",
        "colab_type": "text"
      },
      "source": [
        "<a href=\"https://colab.research.google.com/github/raulrosapacheco/AnaliseSQL-Brazilian-Delivery-Center/blob/main/01-Projeto-IntegracaoPythonSQL/Projeto_AnaliseDados_Integracao_Python_SQL.ipynb\" target=\"_parent\"><img src=\"https://colab.research.google.com/assets/colab-badge.svg\" alt=\"Open In Colab\"/></a>"
      ]
    },
    {
      "cell_type": "markdown",
      "source": [
        "# <font color='white'>Projeto: Integração Linguagem Python e SQL para Análise de Dados</font>\n",
        "<font color='white'>Fonte de Dados: https://www.kaggle.com/datasets/uciml/pima-indians-diabetes-database<br><br> O dataset PIMA possui dados de pacientes quem possuem ou não diabetes. Nesse projeto devemos extrair uma amostra de dados pacientes com mais de 45 anos e criar uma nova coluna indicando se o pacientes está abaixo do peso, normal, sobrepeso, obeso, conforme imagem abaixo.</font>\n",
        "\n",
        "![indice_massa_corporal.gif](data:image/gif;base64,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)\n",
        "\n",
        "\n",
        "1 - Os dados serão carregados em Liguagem Python; \n",
        "\n",
        "2 - Faremos uma copia para um Banco de Dados SQL;\n",
        "\n",
        "3 - As transformações dos dados serão realizadas em Linguagem SQL;\n",
        "\n",
        "4 - O dados serão transformados novamente para um DataFrame do Pandas e salvos em uma arquivo CSV."
      ],
      "metadata": {
        "id": "gIcryvUyPv6A"
      }
    },
    {
      "cell_type": "code",
      "source": [
        "# Instalando Pandas\n",
        "!pip install -q -U pandas"
      ],
      "metadata": {
        "colab": {
          "base_uri": "https://localhost:8080/"
        },
        "id": "21SuNJKLRgjY",
        "outputId": "66a7692f-99ad-41b7-f1c0-a492ed62457d"
      },
      "execution_count": 2,
      "outputs": [
        {
          "output_type": "stream",
          "name": "stdout",
          "text": [
            "\u001b[?25l     \u001b[90m━━━━━━━━━━━━━━━━━━━━━━━━━━━━━━━━━━━━━━━━\u001b[0m \u001b[32m0.0/12.2 MB\u001b[0m \u001b[31m?\u001b[0m eta \u001b[36m-:--:--\u001b[0m\r\u001b[2K     \u001b[91m━━━━━━━━━━━━━━\u001b[0m\u001b[91m╸\u001b[0m\u001b[90m━━━━━━━━━━━━━━━━━━━━━━━━━\u001b[0m \u001b[32m4.4/12.2 MB\u001b[0m \u001b[31m133.4 MB/s\u001b[0m eta \u001b[36m0:00:01\u001b[0m\r\u001b[2K     \u001b[91m━━━━━━━━━━━━━━━━━━━━━━━━━━━━━━━━━\u001b[0m\u001b[91m╸\u001b[0m\u001b[90m━━━━━\u001b[0m \u001b[32m10.5/12.2 MB\u001b[0m \u001b[31m160.1 MB/s\u001b[0m eta \u001b[36m0:00:01\u001b[0m\r\u001b[2K     \u001b[91m━━━━━━━━━━━━━━━━━━━━━━━━━━━━━━━━━━━━━━\u001b[0m\u001b[91m╸\u001b[0m \u001b[32m12.2/12.2 MB\u001b[0m \u001b[31m166.4 MB/s\u001b[0m eta \u001b[36m0:00:01\u001b[0m\r\u001b[2K     \u001b[91m━━━━━━━━━━━━━━━━━━━━━━━━━━━━━━━━━━━━━━\u001b[0m\u001b[91m╸\u001b[0m \u001b[32m12.2/12.2 MB\u001b[0m \u001b[31m166.4 MB/s\u001b[0m eta \u001b[36m0:00:01\u001b[0m\r\u001b[2K     \u001b[90m━━━━━━━━━━━━━━━━━━━━━━━━━━━━━━━━━━━━━━━━\u001b[0m \u001b[32m12.2/12.2 MB\u001b[0m \u001b[31m75.9 MB/s\u001b[0m eta \u001b[36m0:00:00\u001b[0m\n",
            "\u001b[?25h"
          ]
        }
      ]
    },
    {
      "cell_type": "code",
      "source": [
        "# Instalando o pacote iPython-sql (permite utilizar linguagem sql em python)\n",
        "!pip install -q ipython-sql"
      ],
      "metadata": {
        "colab": {
          "base_uri": "https://localhost:8080/"
        },
        "id": "-93NzkZtcV5q",
        "outputId": "dba644f0-0f31-4126-94ef-21362609bf56"
      },
      "execution_count": 3,
      "outputs": [
        {
          "output_type": "stream",
          "name": "stdout",
          "text": [
            "\u001b[?25l     \u001b[90m━━━━━━━━━━━━━━━━━━━━━━━━━━━━━━━━━━━━━━━━\u001b[0m \u001b[32m0.0/1.6 MB\u001b[0m \u001b[31m?\u001b[0m eta \u001b[36m-:--:--\u001b[0m\r\u001b[2K     \u001b[90m━━━━━━━━━━━━━━━━━━━━━━━━━━━━━━━━━━━━━━━━\u001b[0m \u001b[32m1.6/1.6 MB\u001b[0m \u001b[31m49.9 MB/s\u001b[0m eta \u001b[36m0:00:00\u001b[0m\n",
            "\u001b[?25h"
          ]
        }
      ]
    },
    {
      "cell_type": "code",
      "source": [
        "# Importando pacotes pandas e chamando de pd\n",
        "# Importando pacote sqlite, banco de dados onde serão armazenados os registros\n",
        "import pandas as pd\n",
        "import sqlite3"
      ],
      "metadata": {
        "id": "_ajOKGTtckfG"
      },
      "execution_count": 4,
      "outputs": []
    },
    {
      "cell_type": "code",
      "source": [
        "# Montando Google Drive no Colab\n",
        "from google.colab import drive\n",
        "drive.mount('/content/drive')"
      ],
      "metadata": {
        "colab": {
          "base_uri": "https://localhost:8080/"
        },
        "id": "UnkEuNORdF0J",
        "outputId": "bd6c900b-d549-4d74-efed-2aa5fa766c53"
      },
      "execution_count": 5,
      "outputs": [
        {
          "output_type": "stream",
          "name": "stdout",
          "text": [
            "Drive already mounted at /content/drive; to attempt to forcibly remount, call drive.mount(\"/content/drive\", force_remount=True).\n"
          ]
        }
      ]
    },
    {
      "cell_type": "markdown",
      "source": [
        "## Carregando Dados usando Linguagem Python"
      ],
      "metadata": {
        "id": "YD4cOyVH4QfT"
      }
    },
    {
      "cell_type": "code",
      "source": [
        "# Criando um DataFrame 'df' com o arquivo csv armazenado no Google Drive\n",
        "df = pd.read_csv('https://drive.google.com/file/d/1-9UZQmDxDiB4V66kfdZngZ-1B-gBCK_Y/view?usp=share_link')"
      ],
      "metadata": {
        "id": "p26hVeUEmdXX"
      },
      "execution_count": 38,
      "outputs": []
    },
    {
      "cell_type": "code",
      "source": [
        "# Tipo do objeto\n",
        "type(df)"
      ],
      "metadata": {
        "colab": {
          "base_uri": "https://localhost:8080/"
        },
        "id": "v1elo5vWnAq4",
        "outputId": "f158f986-cb5e-44ab-bf3a-df5003a07001"
      },
      "execution_count": 9,
      "outputs": [
        {
          "output_type": "execute_result",
          "data": {
            "text/plain": [
              "pandas.core.frame.DataFrame"
            ]
          },
          "metadata": {},
          "execution_count": 9
        }
      ]
    },
    {
      "cell_type": "code",
      "source": [
        "# Formato\n",
        "df.shape"
      ],
      "metadata": {
        "colab": {
          "base_uri": "https://localhost:8080/"
        },
        "id": "O-6eJhJ8nWBD",
        "outputId": "5fb92a06-f136-4e45-a5f6-164bf195437d"
      },
      "execution_count": 10,
      "outputs": [
        {
          "output_type": "execute_result",
          "data": {
            "text/plain": [
              "(768, 9)"
            ]
          },
          "metadata": {},
          "execution_count": 10
        }
      ]
    },
    {
      "cell_type": "code",
      "source": [
        "# Visualizando os 5 primeiros registros\n",
        "df.head()"
      ],
      "metadata": {
        "colab": {
          "base_uri": "https://localhost:8080/",
          "height": 206
        },
        "id": "LZxPJV_EneNP",
        "outputId": "65edb842-7181-421e-e810-f54197a8e158"
      },
      "execution_count": 11,
      "outputs": [
        {
          "output_type": "execute_result",
          "data": {
            "text/plain": [
              "   Pregnancies  Glucose  BloodPressure  SkinThickness  Insulin   BMI  \\\n",
              "0            6      148             72             35        0  33.6   \n",
              "1            1       85             66             29        0  26.6   \n",
              "2            8      183             64              0        0  23.3   \n",
              "3            1       89             66             23       94  28.1   \n",
              "4            0      137             40             35      168  43.1   \n",
              "\n",
              "   DiabetesPedigreeFunction  Age  Outcome  \n",
              "0                     0.627   50        1  \n",
              "1                     0.351   31        0  \n",
              "2                     0.672   32        1  \n",
              "3                     0.167   21        0  \n",
              "4                     2.288   33        1  "
            ],
            "text/html": [
              "\n",
              "  <div id=\"df-36824773-b938-4d07-8b83-8017e015a9bb\">\n",
              "    <div class=\"colab-df-container\">\n",
              "      <div>\n",
              "<style scoped>\n",
              "    .dataframe tbody tr th:only-of-type {\n",
              "        vertical-align: middle;\n",
              "    }\n",
              "\n",
              "    .dataframe tbody tr th {\n",
              "        vertical-align: top;\n",
              "    }\n",
              "\n",
              "    .dataframe thead th {\n",
              "        text-align: right;\n",
              "    }\n",
              "</style>\n",
              "<table border=\"1\" class=\"dataframe\">\n",
              "  <thead>\n",
              "    <tr style=\"text-align: right;\">\n",
              "      <th></th>\n",
              "      <th>Pregnancies</th>\n",
              "      <th>Glucose</th>\n",
              "      <th>BloodPressure</th>\n",
              "      <th>SkinThickness</th>\n",
              "      <th>Insulin</th>\n",
              "      <th>BMI</th>\n",
              "      <th>DiabetesPedigreeFunction</th>\n",
              "      <th>Age</th>\n",
              "      <th>Outcome</th>\n",
              "    </tr>\n",
              "  </thead>\n",
              "  <tbody>\n",
              "    <tr>\n",
              "      <th>0</th>\n",
              "      <td>6</td>\n",
              "      <td>148</td>\n",
              "      <td>72</td>\n",
              "      <td>35</td>\n",
              "      <td>0</td>\n",
              "      <td>33.6</td>\n",
              "      <td>0.627</td>\n",
              "      <td>50</td>\n",
              "      <td>1</td>\n",
              "    </tr>\n",
              "    <tr>\n",
              "      <th>1</th>\n",
              "      <td>1</td>\n",
              "      <td>85</td>\n",
              "      <td>66</td>\n",
              "      <td>29</td>\n",
              "      <td>0</td>\n",
              "      <td>26.6</td>\n",
              "      <td>0.351</td>\n",
              "      <td>31</td>\n",
              "      <td>0</td>\n",
              "    </tr>\n",
              "    <tr>\n",
              "      <th>2</th>\n",
              "      <td>8</td>\n",
              "      <td>183</td>\n",
              "      <td>64</td>\n",
              "      <td>0</td>\n",
              "      <td>0</td>\n",
              "      <td>23.3</td>\n",
              "      <td>0.672</td>\n",
              "      <td>32</td>\n",
              "      <td>1</td>\n",
              "    </tr>\n",
              "    <tr>\n",
              "      <th>3</th>\n",
              "      <td>1</td>\n",
              "      <td>89</td>\n",
              "      <td>66</td>\n",
              "      <td>23</td>\n",
              "      <td>94</td>\n",
              "      <td>28.1</td>\n",
              "      <td>0.167</td>\n",
              "      <td>21</td>\n",
              "      <td>0</td>\n",
              "    </tr>\n",
              "    <tr>\n",
              "      <th>4</th>\n",
              "      <td>0</td>\n",
              "      <td>137</td>\n",
              "      <td>40</td>\n",
              "      <td>35</td>\n",
              "      <td>168</td>\n",
              "      <td>43.1</td>\n",
              "      <td>2.288</td>\n",
              "      <td>33</td>\n",
              "      <td>1</td>\n",
              "    </tr>\n",
              "  </tbody>\n",
              "</table>\n",
              "</div>\n",
              "      <button class=\"colab-df-convert\" onclick=\"convertToInteractive('df-36824773-b938-4d07-8b83-8017e015a9bb')\"\n",
              "              title=\"Convert this dataframe to an interactive table.\"\n",
              "              style=\"display:none;\">\n",
              "        \n",
              "  <svg xmlns=\"http://www.w3.org/2000/svg\" height=\"24px\"viewBox=\"0 0 24 24\"\n",
              "       width=\"24px\">\n",
              "    <path d=\"M0 0h24v24H0V0z\" fill=\"none\"/>\n",
              "    <path d=\"M18.56 5.44l.94 2.06.94-2.06 2.06-.94-2.06-.94-.94-2.06-.94 2.06-2.06.94zm-11 1L8.5 8.5l.94-2.06 2.06-.94-2.06-.94L8.5 2.5l-.94 2.06-2.06.94zm10 10l.94 2.06.94-2.06 2.06-.94-2.06-.94-.94-2.06-.94 2.06-2.06.94z\"/><path d=\"M17.41 7.96l-1.37-1.37c-.4-.4-.92-.59-1.43-.59-.52 0-1.04.2-1.43.59L10.3 9.45l-7.72 7.72c-.78.78-.78 2.05 0 2.83L4 21.41c.39.39.9.59 1.41.59.51 0 1.02-.2 1.41-.59l7.78-7.78 2.81-2.81c.8-.78.8-2.07 0-2.86zM5.41 20L4 18.59l7.72-7.72 1.47 1.35L5.41 20z\"/>\n",
              "  </svg>\n",
              "      </button>\n",
              "      \n",
              "  <style>\n",
              "    .colab-df-container {\n",
              "      display:flex;\n",
              "      flex-wrap:wrap;\n",
              "      gap: 12px;\n",
              "    }\n",
              "\n",
              "    .colab-df-convert {\n",
              "      background-color: #E8F0FE;\n",
              "      border: none;\n",
              "      border-radius: 50%;\n",
              "      cursor: pointer;\n",
              "      display: none;\n",
              "      fill: #1967D2;\n",
              "      height: 32px;\n",
              "      padding: 0 0 0 0;\n",
              "      width: 32px;\n",
              "    }\n",
              "\n",
              "    .colab-df-convert:hover {\n",
              "      background-color: #E2EBFA;\n",
              "      box-shadow: 0px 1px 2px rgba(60, 64, 67, 0.3), 0px 1px 3px 1px rgba(60, 64, 67, 0.15);\n",
              "      fill: #174EA6;\n",
              "    }\n",
              "\n",
              "    [theme=dark] .colab-df-convert {\n",
              "      background-color: #3B4455;\n",
              "      fill: #D2E3FC;\n",
              "    }\n",
              "\n",
              "    [theme=dark] .colab-df-convert:hover {\n",
              "      background-color: #434B5C;\n",
              "      box-shadow: 0px 1px 3px 1px rgba(0, 0, 0, 0.15);\n",
              "      filter: drop-shadow(0px 1px 2px rgba(0, 0, 0, 0.3));\n",
              "      fill: #FFFFFF;\n",
              "    }\n",
              "  </style>\n",
              "\n",
              "      <script>\n",
              "        const buttonEl =\n",
              "          document.querySelector('#df-36824773-b938-4d07-8b83-8017e015a9bb button.colab-df-convert');\n",
              "        buttonEl.style.display =\n",
              "          google.colab.kernel.accessAllowed ? 'block' : 'none';\n",
              "\n",
              "        async function convertToInteractive(key) {\n",
              "          const element = document.querySelector('#df-36824773-b938-4d07-8b83-8017e015a9bb');\n",
              "          const dataTable =\n",
              "            await google.colab.kernel.invokeFunction('convertToInteractive',\n",
              "                                                     [key], {});\n",
              "          if (!dataTable) return;\n",
              "\n",
              "          const docLinkHtml = 'Like what you see? Visit the ' +\n",
              "            '<a target=\"_blank\" href=https://colab.research.google.com/notebooks/data_table.ipynb>data table notebook</a>'\n",
              "            + ' to learn more about interactive tables.';\n",
              "          element.innerHTML = '';\n",
              "          dataTable['output_type'] = 'display_data';\n",
              "          await google.colab.output.renderOutput(dataTable, element);\n",
              "          const docLink = document.createElement('div');\n",
              "          docLink.innerHTML = docLinkHtml;\n",
              "          element.appendChild(docLink);\n",
              "        }\n",
              "      </script>\n",
              "    </div>\n",
              "  </div>\n",
              "  "
            ]
          },
          "metadata": {},
          "execution_count": 11
        }
      ]
    },
    {
      "cell_type": "markdown",
      "source": [
        "## Copiando dados para uma Banco de Dados SQL "
      ],
      "metadata": {
        "id": "wZ1PHPrE4y0z"
      }
    },
    {
      "cell_type": "code",
      "source": [
        "# Criando uma conexão ao banco de dados SQLite\n",
        "# 'cnn' será o nome da conexão\n",
        "# Um database 'dbprojeto1.db' é criado dentro da pasta 'Databases' \n",
        "# no Google Drive\n",
        "cnn = sqlite3.connect('/content/drive/MyDrive/Databases/dbprojeto1.db')"
      ],
      "metadata": {
        "id": "HYWw2RH0nzhC"
      },
      "execution_count": 13,
      "outputs": []
    },
    {
      "cell_type": "code",
      "source": [
        "# Copiando o DataFrame 'df' para dentro do Banco de Dados como uma tabela\n",
        "# O DataFrame 'df' é convertido para formato SQL e gravado na conexão 'cnn' em\n",
        "# uma tabela chamada 'diabetes'\n",
        "df.to_sql('diabetes', cnn)"
      ],
      "metadata": {
        "colab": {
          "base_uri": "https://localhost:8080/"
        },
        "id": "BLNQywGjqYIH",
        "outputId": "edd20fb2-e67a-42ad-b589-9decbc4af132"
      },
      "execution_count": 14,
      "outputs": [
        {
          "output_type": "execute_result",
          "data": {
            "text/plain": [
              "768"
            ]
          },
          "metadata": {},
          "execution_count": 14
        }
      ]
    },
    {
      "cell_type": "code",
      "source": [
        "# Carregando a extensão SQL para executar queries aqui \n",
        "%load_ext sql"
      ],
      "metadata": {
        "id": "BZ6t7kFsriOr"
      },
      "execution_count": 15,
      "outputs": []
    },
    {
      "cell_type": "code",
      "source": [
        "# Definindo o Banco de Dados a ser utilizado\n",
        "%sql sqlite:////content/drive/MyDrive/Databases/dbprojeto1.db"
      ],
      "metadata": {
        "colab": {
          "base_uri": "https://localhost:8080/",
          "height": 35
        },
        "id": "CPJBI6smrv5-",
        "outputId": "8152de92-54f1-482f-d8cf-8cc1207ebc8e"
      },
      "execution_count": 16,
      "outputs": [
        {
          "output_type": "execute_result",
          "data": {
            "text/plain": [
              "'Connected: @/content/drive/MyDrive/Databases/dbprojeto1.db'"
            ],
            "application/vnd.google.colaboratory.intrinsic+json": {
              "type": "string"
            }
          },
          "metadata": {},
          "execution_count": 16
        }
      ]
    },
    {
      "cell_type": "markdown",
      "source": [
        "## Transformando dados em Linguagem SQL"
      ],
      "metadata": {
        "id": "CmzkscfhsNNm"
      }
    },
    {
      "cell_type": "code",
      "source": [
        "%%sql\n",
        "\n",
        "SELECT COUNT(*) FROM diabetes\n",
        "WHERE Age > 45"
      ],
      "metadata": {
        "colab": {
          "base_uri": "https://localhost:8080/",
          "height": 96
        },
        "id": "CZ8R7LHjshJO",
        "outputId": "d92bcea7-aabb-43b3-c800-ef4f7d75c26f"
      },
      "execution_count": 17,
      "outputs": [
        {
          "output_type": "stream",
          "name": "stdout",
          "text": [
            " * sqlite:////content/drive/MyDrive/Databases/dbprojeto1.db\n",
            "Done.\n"
          ]
        },
        {
          "output_type": "execute_result",
          "data": {
            "text/plain": [
              "[(118,)]"
            ],
            "text/html": [
              "<table>\n",
              "    <thead>\n",
              "        <tr>\n",
              "            <th>COUNT(*)</th>\n",
              "        </tr>\n",
              "    </thead>\n",
              "    <tbody>\n",
              "        <tr>\n",
              "            <td>118</td>\n",
              "        </tr>\n",
              "    </tbody>\n",
              "</table>"
            ]
          },
          "metadata": {},
          "execution_count": 17
        }
      ]
    },
    {
      "cell_type": "code",
      "source": [
        "# Visualizando as Colunas do DataFrame 'df'\n",
        "df.columns"
      ],
      "metadata": {
        "colab": {
          "base_uri": "https://localhost:8080/"
        },
        "id": "goN5ep4ItXu6",
        "outputId": "dfb68c78-4cb8-4cad-b263-dd9315c7bd33"
      },
      "execution_count": 18,
      "outputs": [
        {
          "output_type": "execute_result",
          "data": {
            "text/plain": [
              "Index(['Pregnancies', 'Glucose', 'BloodPressure', 'SkinThickness', 'Insulin',\n",
              "       'BMI', 'DiabetesPedigreeFunction', 'Age', 'Outcome'],\n",
              "      dtype='object')"
            ]
          },
          "metadata": {},
          "execution_count": 18
        }
      ]
    },
    {
      "cell_type": "code",
      "source": [
        "%%sql\n",
        "\n",
        "CREATE TABLE pacientes (Pregnancies INT,\n",
        "                        Glucose INT,\n",
        "                        BloodPressure INT,\n",
        "                        SkinThickness INT,\n",
        "                        Insulin INT,\n",
        "                        BMI DECIMAL(8, 2),\n",
        "                        DiabetesPedigreeFunction DECIMAL(8, 2),\n",
        "                        Age INT,\n",
        "                        Outcome INT);"
      ],
      "metadata": {
        "colab": {
          "base_uri": "https://localhost:8080/"
        },
        "id": "xmO9SUS2tsKS",
        "outputId": "c02e3756-281f-416f-834c-2a8dc3d109a3"
      },
      "execution_count": 19,
      "outputs": [
        {
          "output_type": "stream",
          "name": "stdout",
          "text": [
            " * sqlite:////content/drive/MyDrive/Databases/dbprojeto1.db\n",
            "Done.\n"
          ]
        },
        {
          "output_type": "execute_result",
          "data": {
            "text/plain": [
              "[]"
            ]
          },
          "metadata": {},
          "execution_count": 19
        }
      ]
    },
    {
      "cell_type": "code",
      "source": [
        "%%sql \n",
        "\n",
        "SELECT * FROM pacientes"
      ],
      "metadata": {
        "colab": {
          "base_uri": "https://localhost:8080/",
          "height": 75
        },
        "id": "wk7F0_PgvOsS",
        "outputId": "050acb1b-c729-4180-f9be-6c7d750f26e7"
      },
      "execution_count": 20,
      "outputs": [
        {
          "output_type": "stream",
          "name": "stdout",
          "text": [
            " * sqlite:////content/drive/MyDrive/Databases/dbprojeto1.db\n",
            "Done.\n"
          ]
        },
        {
          "output_type": "execute_result",
          "data": {
            "text/plain": [
              "[]"
            ],
            "text/html": [
              "<table>\n",
              "    <thead>\n",
              "        <tr>\n",
              "            <th>Pregnancies</th>\n",
              "            <th>Glucose</th>\n",
              "            <th>BloodPressure</th>\n",
              "            <th>SkinThickness</th>\n",
              "            <th>Insulin</th>\n",
              "            <th>BMI</th>\n",
              "            <th>DiabetesPedigreeFunction</th>\n",
              "            <th>Age</th>\n",
              "            <th>Outcome</th>\n",
              "        </tr>\n",
              "    </thead>\n",
              "    <tbody>\n",
              "    </tbody>\n",
              "</table>"
            ]
          },
          "metadata": {},
          "execution_count": 20
        }
      ]
    },
    {
      "cell_type": "code",
      "source": [
        "%%sql\n",
        "\n",
        "INSERT INTO pacientes(Pregnancies, \n",
        "                      Glucose, \n",
        "                      BloodPressure, \n",
        "                      SkinThickness, \n",
        "                      Insulin, \n",
        "                      BMI, \n",
        "                      DiabetesPedigreeFunction, \n",
        "                      Age, \n",
        "                      Outcome) \n",
        "SELECT Pregnancies, \n",
        "       Glucose, \n",
        "       BloodPressure, \n",
        "       SkinThickness, \n",
        "       Insulin, \n",
        "       BMI, \n",
        "       DiabetesPedigreeFunction, \n",
        "       Age, \n",
        "       Outcome \n",
        "FROM diabetes WHERE Age > 45;"
      ],
      "metadata": {
        "colab": {
          "base_uri": "https://localhost:8080/"
        },
        "id": "dlBMqLUwv4R1",
        "outputId": "de0f6fc3-cdab-4180-99d4-9cab9915cd05"
      },
      "execution_count": 21,
      "outputs": [
        {
          "output_type": "stream",
          "name": "stdout",
          "text": [
            " * sqlite:////content/drive/MyDrive/Databases/dbprojeto1.db\n",
            "118 rows affected.\n"
          ]
        },
        {
          "output_type": "execute_result",
          "data": {
            "text/plain": [
              "[]"
            ]
          },
          "metadata": {},
          "execution_count": 21
        }
      ]
    },
    {
      "cell_type": "code",
      "source": [
        "%%sql\n",
        "\n",
        "SELECT * FROM pacientes LIMIT 10"
      ],
      "metadata": {
        "colab": {
          "base_uri": "https://localhost:8080/",
          "height": 289
        },
        "id": "9xIQ_NecxCtO",
        "outputId": "3b59d547-e777-4e88-a1c7-0c2274501c8f"
      },
      "execution_count": 23,
      "outputs": [
        {
          "output_type": "stream",
          "name": "stdout",
          "text": [
            " * sqlite:////content/drive/MyDrive/Databases/dbprojeto1.db\n",
            "Done.\n"
          ]
        },
        {
          "output_type": "execute_result",
          "data": {
            "text/plain": [
              "[(6, 148, 72, 35, 0, 33.6, 0.627, 50, 1),\n",
              " (2, 197, 70, 45, 543, 30.5, 0.158, 53, 1),\n",
              " (8, 125, 96, 0, 0, 0, 0.232, 54, 1),\n",
              " (10, 139, 80, 0, 0, 27.1, 1.441, 57, 0),\n",
              " (1, 189, 60, 23, 846, 30.1, 0.398, 59, 1),\n",
              " (5, 166, 72, 19, 175, 25.8, 0.587, 51, 1),\n",
              " (8, 99, 84, 0, 0, 35.4, 0.388, 50, 0),\n",
              " (11, 143, 94, 33, 146, 36.6, 0.254, 51, 1),\n",
              " (13, 145, 82, 19, 110, 22.2, 0.245, 57, 0),\n",
              " (5, 109, 75, 26, 0, 36, 0.546, 60, 0)]"
            ],
            "text/html": [
              "<table>\n",
              "    <thead>\n",
              "        <tr>\n",
              "            <th>Pregnancies</th>\n",
              "            <th>Glucose</th>\n",
              "            <th>BloodPressure</th>\n",
              "            <th>SkinThickness</th>\n",
              "            <th>Insulin</th>\n",
              "            <th>BMI</th>\n",
              "            <th>DiabetesPedigreeFunction</th>\n",
              "            <th>Age</th>\n",
              "            <th>Outcome</th>\n",
              "        </tr>\n",
              "    </thead>\n",
              "    <tbody>\n",
              "        <tr>\n",
              "            <td>6</td>\n",
              "            <td>148</td>\n",
              "            <td>72</td>\n",
              "            <td>35</td>\n",
              "            <td>0</td>\n",
              "            <td>33.6</td>\n",
              "            <td>0.627</td>\n",
              "            <td>50</td>\n",
              "            <td>1</td>\n",
              "        </tr>\n",
              "        <tr>\n",
              "            <td>2</td>\n",
              "            <td>197</td>\n",
              "            <td>70</td>\n",
              "            <td>45</td>\n",
              "            <td>543</td>\n",
              "            <td>30.5</td>\n",
              "            <td>0.158</td>\n",
              "            <td>53</td>\n",
              "            <td>1</td>\n",
              "        </tr>\n",
              "        <tr>\n",
              "            <td>8</td>\n",
              "            <td>125</td>\n",
              "            <td>96</td>\n",
              "            <td>0</td>\n",
              "            <td>0</td>\n",
              "            <td>0</td>\n",
              "            <td>0.232</td>\n",
              "            <td>54</td>\n",
              "            <td>1</td>\n",
              "        </tr>\n",
              "        <tr>\n",
              "            <td>10</td>\n",
              "            <td>139</td>\n",
              "            <td>80</td>\n",
              "            <td>0</td>\n",
              "            <td>0</td>\n",
              "            <td>27.1</td>\n",
              "            <td>1.441</td>\n",
              "            <td>57</td>\n",
              "            <td>0</td>\n",
              "        </tr>\n",
              "        <tr>\n",
              "            <td>1</td>\n",
              "            <td>189</td>\n",
              "            <td>60</td>\n",
              "            <td>23</td>\n",
              "            <td>846</td>\n",
              "            <td>30.1</td>\n",
              "            <td>0.398</td>\n",
              "            <td>59</td>\n",
              "            <td>1</td>\n",
              "        </tr>\n",
              "        <tr>\n",
              "            <td>5</td>\n",
              "            <td>166</td>\n",
              "            <td>72</td>\n",
              "            <td>19</td>\n",
              "            <td>175</td>\n",
              "            <td>25.8</td>\n",
              "            <td>0.587</td>\n",
              "            <td>51</td>\n",
              "            <td>1</td>\n",
              "        </tr>\n",
              "        <tr>\n",
              "            <td>8</td>\n",
              "            <td>99</td>\n",
              "            <td>84</td>\n",
              "            <td>0</td>\n",
              "            <td>0</td>\n",
              "            <td>35.4</td>\n",
              "            <td>0.388</td>\n",
              "            <td>50</td>\n",
              "            <td>0</td>\n",
              "        </tr>\n",
              "        <tr>\n",
              "            <td>11</td>\n",
              "            <td>143</td>\n",
              "            <td>94</td>\n",
              "            <td>33</td>\n",
              "            <td>146</td>\n",
              "            <td>36.6</td>\n",
              "            <td>0.254</td>\n",
              "            <td>51</td>\n",
              "            <td>1</td>\n",
              "        </tr>\n",
              "        <tr>\n",
              "            <td>13</td>\n",
              "            <td>145</td>\n",
              "            <td>82</td>\n",
              "            <td>19</td>\n",
              "            <td>110</td>\n",
              "            <td>22.2</td>\n",
              "            <td>0.245</td>\n",
              "            <td>57</td>\n",
              "            <td>0</td>\n",
              "        </tr>\n",
              "        <tr>\n",
              "            <td>5</td>\n",
              "            <td>109</td>\n",
              "            <td>75</td>\n",
              "            <td>26</td>\n",
              "            <td>0</td>\n",
              "            <td>36</td>\n",
              "            <td>0.546</td>\n",
              "            <td>60</td>\n",
              "            <td>0</td>\n",
              "        </tr>\n",
              "    </tbody>\n",
              "</table>"
            ]
          },
          "metadata": {},
          "execution_count": 23
        }
      ]
    },
    {
      "cell_type": "code",
      "source": [
        "%%sql\n",
        "\n",
        "ALTER TABLE pacientes\n",
        "ADD Rotundity VARCHAR(10);\n",
        "\n",
        "UPDATE pacientes\n",
        "SET Rotundity = 'Abaixo'\n",
        "WHERE BMI < 18.5;\n",
        "\n",
        "UPDATE pacientes\n",
        "SET Rotundity = 'Normal'\n",
        "WHERE BMI >= 18.5 AND BMI < 25;\n",
        "\n",
        "UPDATE pacientes\n",
        "SET Rotundity = 'Sobrepeso'\n",
        "WHERE BMI >= 25 AND BMI < 30;\n",
        "\n",
        "UPDATE pacientes\n",
        "SET Rotundity = 'Obeso'\n",
        "WHERE BMI >= 30;"
      ],
      "metadata": {
        "colab": {
          "base_uri": "https://localhost:8080/"
        },
        "id": "98VKB0tUx0jx",
        "outputId": "af772fab-706b-472d-f093-1cdf51d2f105"
      },
      "execution_count": 24,
      "outputs": [
        {
          "output_type": "stream",
          "name": "stdout",
          "text": [
            " * sqlite:////content/drive/MyDrive/Databases/dbprojeto1.db\n",
            "Done.\n",
            "2 rows affected.\n",
            "19 rows affected.\n",
            "30 rows affected.\n",
            "67 rows affected.\n"
          ]
        },
        {
          "output_type": "execute_result",
          "data": {
            "text/plain": [
              "[]"
            ]
          },
          "metadata": {},
          "execution_count": 24
        }
      ]
    },
    {
      "cell_type": "code",
      "source": [
        "%%sql\n",
        "\n",
        "SELECT * FROM pacientes LIMIT 10"
      ],
      "metadata": {
        "colab": {
          "base_uri": "https://localhost:8080/",
          "height": 289
        },
        "id": "tE_FeR7q0vDH",
        "outputId": "a94c8ac0-a023-4651-d7da-50ac6c5a65ea"
      },
      "execution_count": 25,
      "outputs": [
        {
          "output_type": "stream",
          "name": "stdout",
          "text": [
            " * sqlite:////content/drive/MyDrive/Databases/dbprojeto1.db\n",
            "Done.\n"
          ]
        },
        {
          "output_type": "execute_result",
          "data": {
            "text/plain": [
              "[(6, 148, 72, 35, 0, 33.6, 0.627, 50, 1, 'Obeso'),\n",
              " (2, 197, 70, 45, 543, 30.5, 0.158, 53, 1, 'Obeso'),\n",
              " (8, 125, 96, 0, 0, 0, 0.232, 54, 1, 'Abaixo'),\n",
              " (10, 139, 80, 0, 0, 27.1, 1.441, 57, 0, 'Sobrepeso'),\n",
              " (1, 189, 60, 23, 846, 30.1, 0.398, 59, 1, 'Obeso'),\n",
              " (5, 166, 72, 19, 175, 25.8, 0.587, 51, 1, 'Sobrepeso'),\n",
              " (8, 99, 84, 0, 0, 35.4, 0.388, 50, 0, 'Obeso'),\n",
              " (11, 143, 94, 33, 146, 36.6, 0.254, 51, 1, 'Obeso'),\n",
              " (13, 145, 82, 19, 110, 22.2, 0.245, 57, 0, 'Normal'),\n",
              " (5, 109, 75, 26, 0, 36, 0.546, 60, 0, 'Obeso')]"
            ],
            "text/html": [
              "<table>\n",
              "    <thead>\n",
              "        <tr>\n",
              "            <th>Pregnancies</th>\n",
              "            <th>Glucose</th>\n",
              "            <th>BloodPressure</th>\n",
              "            <th>SkinThickness</th>\n",
              "            <th>Insulin</th>\n",
              "            <th>BMI</th>\n",
              "            <th>DiabetesPedigreeFunction</th>\n",
              "            <th>Age</th>\n",
              "            <th>Outcome</th>\n",
              "            <th>Rotundity</th>\n",
              "        </tr>\n",
              "    </thead>\n",
              "    <tbody>\n",
              "        <tr>\n",
              "            <td>6</td>\n",
              "            <td>148</td>\n",
              "            <td>72</td>\n",
              "            <td>35</td>\n",
              "            <td>0</td>\n",
              "            <td>33.6</td>\n",
              "            <td>0.627</td>\n",
              "            <td>50</td>\n",
              "            <td>1</td>\n",
              "            <td>Obeso</td>\n",
              "        </tr>\n",
              "        <tr>\n",
              "            <td>2</td>\n",
              "            <td>197</td>\n",
              "            <td>70</td>\n",
              "            <td>45</td>\n",
              "            <td>543</td>\n",
              "            <td>30.5</td>\n",
              "            <td>0.158</td>\n",
              "            <td>53</td>\n",
              "            <td>1</td>\n",
              "            <td>Obeso</td>\n",
              "        </tr>\n",
              "        <tr>\n",
              "            <td>8</td>\n",
              "            <td>125</td>\n",
              "            <td>96</td>\n",
              "            <td>0</td>\n",
              "            <td>0</td>\n",
              "            <td>0</td>\n",
              "            <td>0.232</td>\n",
              "            <td>54</td>\n",
              "            <td>1</td>\n",
              "            <td>Abaixo</td>\n",
              "        </tr>\n",
              "        <tr>\n",
              "            <td>10</td>\n",
              "            <td>139</td>\n",
              "            <td>80</td>\n",
              "            <td>0</td>\n",
              "            <td>0</td>\n",
              "            <td>27.1</td>\n",
              "            <td>1.441</td>\n",
              "            <td>57</td>\n",
              "            <td>0</td>\n",
              "            <td>Sobrepeso</td>\n",
              "        </tr>\n",
              "        <tr>\n",
              "            <td>1</td>\n",
              "            <td>189</td>\n",
              "            <td>60</td>\n",
              "            <td>23</td>\n",
              "            <td>846</td>\n",
              "            <td>30.1</td>\n",
              "            <td>0.398</td>\n",
              "            <td>59</td>\n",
              "            <td>1</td>\n",
              "            <td>Obeso</td>\n",
              "        </tr>\n",
              "        <tr>\n",
              "            <td>5</td>\n",
              "            <td>166</td>\n",
              "            <td>72</td>\n",
              "            <td>19</td>\n",
              "            <td>175</td>\n",
              "            <td>25.8</td>\n",
              "            <td>0.587</td>\n",
              "            <td>51</td>\n",
              "            <td>1</td>\n",
              "            <td>Sobrepeso</td>\n",
              "        </tr>\n",
              "        <tr>\n",
              "            <td>8</td>\n",
              "            <td>99</td>\n",
              "            <td>84</td>\n",
              "            <td>0</td>\n",
              "            <td>0</td>\n",
              "            <td>35.4</td>\n",
              "            <td>0.388</td>\n",
              "            <td>50</td>\n",
              "            <td>0</td>\n",
              "            <td>Obeso</td>\n",
              "        </tr>\n",
              "        <tr>\n",
              "            <td>11</td>\n",
              "            <td>143</td>\n",
              "            <td>94</td>\n",
              "            <td>33</td>\n",
              "            <td>146</td>\n",
              "            <td>36.6</td>\n",
              "            <td>0.254</td>\n",
              "            <td>51</td>\n",
              "            <td>1</td>\n",
              "            <td>Obeso</td>\n",
              "        </tr>\n",
              "        <tr>\n",
              "            <td>13</td>\n",
              "            <td>145</td>\n",
              "            <td>82</td>\n",
              "            <td>19</td>\n",
              "            <td>110</td>\n",
              "            <td>22.2</td>\n",
              "            <td>0.245</td>\n",
              "            <td>57</td>\n",
              "            <td>0</td>\n",
              "            <td>Normal</td>\n",
              "        </tr>\n",
              "        <tr>\n",
              "            <td>5</td>\n",
              "            <td>109</td>\n",
              "            <td>75</td>\n",
              "            <td>26</td>\n",
              "            <td>0</td>\n",
              "            <td>36</td>\n",
              "            <td>0.546</td>\n",
              "            <td>60</td>\n",
              "            <td>0</td>\n",
              "            <td>Obeso</td>\n",
              "        </tr>\n",
              "    </tbody>\n",
              "</table>"
            ]
          },
          "metadata": {},
          "execution_count": 25
        }
      ]
    },
    {
      "cell_type": "markdown",
      "source": [
        "## Carregando dados transformados no Pandas e salvando em um arquivo CSV"
      ],
      "metadata": {
        "id": "tGVXRfRa4Bs0"
      }
    },
    {
      "cell_type": "code",
      "source": [
        "# Gravando resultado de uma Query em um cursor\n",
        "query = cnn.execute(\"SELECT * FROM pacientes\")\n",
        "query"
      ],
      "metadata": {
        "colab": {
          "base_uri": "https://localhost:8080/"
        },
        "id": "UmrHq9Bd5LeU",
        "outputId": "42fc87f2-ca54-4a62-d9b7-c65bdecdfde3"
      },
      "execution_count": 35,
      "outputs": [
        {
          "output_type": "execute_result",
          "data": {
            "text/plain": [
              "<sqlite3.Cursor at 0x7f486dbbde30>"
            ]
          },
          "metadata": {},
          "execution_count": 35
        }
      ]
    },
    {
      "cell_type": "code",
      "source": [
        "# Criando uma Lista com o nome das colunas\n",
        "cols = [col[0] for col in query.description]\n",
        "cols"
      ],
      "metadata": {
        "colab": {
          "base_uri": "https://localhost:8080/"
        },
        "id": "xvOr8XFG7CDA",
        "outputId": "6c2b3c4b-92f3-4f43-a0e0-de80c6ad14dd"
      },
      "execution_count": 28,
      "outputs": [
        {
          "output_type": "execute_result",
          "data": {
            "text/plain": [
              "['Pregnancies',\n",
              " 'Glucose',\n",
              " 'BloodPressure',\n",
              " 'SkinThickness',\n",
              " 'Insulin',\n",
              " 'BMI',\n",
              " 'DiabetesPedigreeFunction',\n",
              " 'Age',\n",
              " 'Outcome',\n",
              " 'Rotundity']"
            ]
          },
          "metadata": {},
          "execution_count": 28
        }
      ]
    },
    {
      "cell_type": "code",
      "source": [
        "# Criando um DataFrame Pandas\n",
        "df_final = pd.DataFrame.from_records(data = query.fetchall(), columns = cols)"
      ],
      "metadata": {
        "id": "Kz9t-As38V1A"
      },
      "execution_count": 29,
      "outputs": []
    },
    {
      "cell_type": "code",
      "source": [
        "df_final.shape"
      ],
      "metadata": {
        "colab": {
          "base_uri": "https://localhost:8080/"
        },
        "id": "0jkla0Si87yk",
        "outputId": "97680b99-c726-45a1-faa3-b29185686b3c"
      },
      "execution_count": 31,
      "outputs": [
        {
          "output_type": "execute_result",
          "data": {
            "text/plain": [
              "(118, 10)"
            ]
          },
          "metadata": {},
          "execution_count": 31
        }
      ]
    },
    {
      "cell_type": "code",
      "source": [
        "df_final.head()"
      ],
      "metadata": {
        "colab": {
          "base_uri": "https://localhost:8080/",
          "height": 206
        },
        "id": "mkCRKfth9IBy",
        "outputId": "fc7f04f0-6b19-4b9e-8799-a5f2acf6c178"
      },
      "execution_count": 32,
      "outputs": [
        {
          "output_type": "execute_result",
          "data": {
            "text/plain": [
              "   Pregnancies  Glucose  BloodPressure  SkinThickness  Insulin   BMI  \\\n",
              "0            6      148             72             35        0  33.6   \n",
              "1            2      197             70             45      543  30.5   \n",
              "2            8      125             96              0        0   0.0   \n",
              "3           10      139             80              0        0  27.1   \n",
              "4            1      189             60             23      846  30.1   \n",
              "\n",
              "   DiabetesPedigreeFunction  Age  Outcome  Rotundity  \n",
              "0                     0.627   50        1      Obeso  \n",
              "1                     0.158   53        1      Obeso  \n",
              "2                     0.232   54        1     Abaixo  \n",
              "3                     1.441   57        0  Sobrepeso  \n",
              "4                     0.398   59        1      Obeso  "
            ],
            "text/html": [
              "\n",
              "  <div id=\"df-c4550c04-a6fb-4069-a22c-0a31f83b6eee\">\n",
              "    <div class=\"colab-df-container\">\n",
              "      <div>\n",
              "<style scoped>\n",
              "    .dataframe tbody tr th:only-of-type {\n",
              "        vertical-align: middle;\n",
              "    }\n",
              "\n",
              "    .dataframe tbody tr th {\n",
              "        vertical-align: top;\n",
              "    }\n",
              "\n",
              "    .dataframe thead th {\n",
              "        text-align: right;\n",
              "    }\n",
              "</style>\n",
              "<table border=\"1\" class=\"dataframe\">\n",
              "  <thead>\n",
              "    <tr style=\"text-align: right;\">\n",
              "      <th></th>\n",
              "      <th>Pregnancies</th>\n",
              "      <th>Glucose</th>\n",
              "      <th>BloodPressure</th>\n",
              "      <th>SkinThickness</th>\n",
              "      <th>Insulin</th>\n",
              "      <th>BMI</th>\n",
              "      <th>DiabetesPedigreeFunction</th>\n",
              "      <th>Age</th>\n",
              "      <th>Outcome</th>\n",
              "      <th>Rotundity</th>\n",
              "    </tr>\n",
              "  </thead>\n",
              "  <tbody>\n",
              "    <tr>\n",
              "      <th>0</th>\n",
              "      <td>6</td>\n",
              "      <td>148</td>\n",
              "      <td>72</td>\n",
              "      <td>35</td>\n",
              "      <td>0</td>\n",
              "      <td>33.6</td>\n",
              "      <td>0.627</td>\n",
              "      <td>50</td>\n",
              "      <td>1</td>\n",
              "      <td>Obeso</td>\n",
              "    </tr>\n",
              "    <tr>\n",
              "      <th>1</th>\n",
              "      <td>2</td>\n",
              "      <td>197</td>\n",
              "      <td>70</td>\n",
              "      <td>45</td>\n",
              "      <td>543</td>\n",
              "      <td>30.5</td>\n",
              "      <td>0.158</td>\n",
              "      <td>53</td>\n",
              "      <td>1</td>\n",
              "      <td>Obeso</td>\n",
              "    </tr>\n",
              "    <tr>\n",
              "      <th>2</th>\n",
              "      <td>8</td>\n",
              "      <td>125</td>\n",
              "      <td>96</td>\n",
              "      <td>0</td>\n",
              "      <td>0</td>\n",
              "      <td>0.0</td>\n",
              "      <td>0.232</td>\n",
              "      <td>54</td>\n",
              "      <td>1</td>\n",
              "      <td>Abaixo</td>\n",
              "    </tr>\n",
              "    <tr>\n",
              "      <th>3</th>\n",
              "      <td>10</td>\n",
              "      <td>139</td>\n",
              "      <td>80</td>\n",
              "      <td>0</td>\n",
              "      <td>0</td>\n",
              "      <td>27.1</td>\n",
              "      <td>1.441</td>\n",
              "      <td>57</td>\n",
              "      <td>0</td>\n",
              "      <td>Sobrepeso</td>\n",
              "    </tr>\n",
              "    <tr>\n",
              "      <th>4</th>\n",
              "      <td>1</td>\n",
              "      <td>189</td>\n",
              "      <td>60</td>\n",
              "      <td>23</td>\n",
              "      <td>846</td>\n",
              "      <td>30.1</td>\n",
              "      <td>0.398</td>\n",
              "      <td>59</td>\n",
              "      <td>1</td>\n",
              "      <td>Obeso</td>\n",
              "    </tr>\n",
              "  </tbody>\n",
              "</table>\n",
              "</div>\n",
              "      <button class=\"colab-df-convert\" onclick=\"convertToInteractive('df-c4550c04-a6fb-4069-a22c-0a31f83b6eee')\"\n",
              "              title=\"Convert this dataframe to an interactive table.\"\n",
              "              style=\"display:none;\">\n",
              "        \n",
              "  <svg xmlns=\"http://www.w3.org/2000/svg\" height=\"24px\"viewBox=\"0 0 24 24\"\n",
              "       width=\"24px\">\n",
              "    <path d=\"M0 0h24v24H0V0z\" fill=\"none\"/>\n",
              "    <path d=\"M18.56 5.44l.94 2.06.94-2.06 2.06-.94-2.06-.94-.94-2.06-.94 2.06-2.06.94zm-11 1L8.5 8.5l.94-2.06 2.06-.94-2.06-.94L8.5 2.5l-.94 2.06-2.06.94zm10 10l.94 2.06.94-2.06 2.06-.94-2.06-.94-.94-2.06-.94 2.06-2.06.94z\"/><path d=\"M17.41 7.96l-1.37-1.37c-.4-.4-.92-.59-1.43-.59-.52 0-1.04.2-1.43.59L10.3 9.45l-7.72 7.72c-.78.78-.78 2.05 0 2.83L4 21.41c.39.39.9.59 1.41.59.51 0 1.02-.2 1.41-.59l7.78-7.78 2.81-2.81c.8-.78.8-2.07 0-2.86zM5.41 20L4 18.59l7.72-7.72 1.47 1.35L5.41 20z\"/>\n",
              "  </svg>\n",
              "      </button>\n",
              "      \n",
              "  <style>\n",
              "    .colab-df-container {\n",
              "      display:flex;\n",
              "      flex-wrap:wrap;\n",
              "      gap: 12px;\n",
              "    }\n",
              "\n",
              "    .colab-df-convert {\n",
              "      background-color: #E8F0FE;\n",
              "      border: none;\n",
              "      border-radius: 50%;\n",
              "      cursor: pointer;\n",
              "      display: none;\n",
              "      fill: #1967D2;\n",
              "      height: 32px;\n",
              "      padding: 0 0 0 0;\n",
              "      width: 32px;\n",
              "    }\n",
              "\n",
              "    .colab-df-convert:hover {\n",
              "      background-color: #E2EBFA;\n",
              "      box-shadow: 0px 1px 2px rgba(60, 64, 67, 0.3), 0px 1px 3px 1px rgba(60, 64, 67, 0.15);\n",
              "      fill: #174EA6;\n",
              "    }\n",
              "\n",
              "    [theme=dark] .colab-df-convert {\n",
              "      background-color: #3B4455;\n",
              "      fill: #D2E3FC;\n",
              "    }\n",
              "\n",
              "    [theme=dark] .colab-df-convert:hover {\n",
              "      background-color: #434B5C;\n",
              "      box-shadow: 0px 1px 3px 1px rgba(0, 0, 0, 0.15);\n",
              "      filter: drop-shadow(0px 1px 2px rgba(0, 0, 0, 0.3));\n",
              "      fill: #FFFFFF;\n",
              "    }\n",
              "  </style>\n",
              "\n",
              "      <script>\n",
              "        const buttonEl =\n",
              "          document.querySelector('#df-c4550c04-a6fb-4069-a22c-0a31f83b6eee button.colab-df-convert');\n",
              "        buttonEl.style.display =\n",
              "          google.colab.kernel.accessAllowed ? 'block' : 'none';\n",
              "\n",
              "        async function convertToInteractive(key) {\n",
              "          const element = document.querySelector('#df-c4550c04-a6fb-4069-a22c-0a31f83b6eee');\n",
              "          const dataTable =\n",
              "            await google.colab.kernel.invokeFunction('convertToInteractive',\n",
              "                                                     [key], {});\n",
              "          if (!dataTable) return;\n",
              "\n",
              "          const docLinkHtml = 'Like what you see? Visit the ' +\n",
              "            '<a target=\"_blank\" href=https://colab.research.google.com/notebooks/data_table.ipynb>data table notebook</a>'\n",
              "            + ' to learn more about interactive tables.';\n",
              "          element.innerHTML = '';\n",
              "          dataTable['output_type'] = 'display_data';\n",
              "          await google.colab.output.renderOutput(dataTable, element);\n",
              "          const docLink = document.createElement('div');\n",
              "          docLink.innerHTML = docLinkHtml;\n",
              "          element.appendChild(docLink);\n",
              "        }\n",
              "      </script>\n",
              "    </div>\n",
              "  </div>\n",
              "  "
            ]
          },
          "metadata": {},
          "execution_count": 32
        }
      ]
    },
    {
      "cell_type": "code",
      "source": [
        "# Salvando DataFrame 'df_final' em arquivo CSV\n",
        "df_final.to_csv('/content/drive/MyDrive/Datasets/diabetes>45+rotundity.csv', index = False)"
      ],
      "metadata": {
        "id": "h1kPtmWO9R-h"
      },
      "execution_count": 37,
      "outputs": []
    },
    {
      "cell_type": "markdown",
      "source": [
        "#Fim\n",
        "\n",
        "Desenvolvido por Raul Rosa.\n",
        "\n",
        "rr0608@outlook.com\n",
        "\n",
        "<a href=\"https://www.linkedin.com/in/raul-rosa/\">LinkedIn</a>\n",
        "\n",
        "Este projeto é uma variação/adapatação ao Projeto 1 desenvolvido no curso: <a href=\"https://www.datascienceacademy.com.br/course/analise-de-dados-com-linguagem-python-dsa\">Análise de Dados com Linguagem Python - Data Science Academy</a>"
      ],
      "metadata": {
        "id": "Kn7qdJHJ-yA1"
      }
    }
  ]
}